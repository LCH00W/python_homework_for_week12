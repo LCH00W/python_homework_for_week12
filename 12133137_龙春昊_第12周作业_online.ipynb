{
 "cells": [
  {
   "cell_type": "markdown",
   "id": "8eea0a33",
   "metadata": {},
   "source": [
    "Make a Panel app to visualize the COVID19 data\n",
    "\n",
    "Basic:\n",
    "Allow users to choose countries. Months and data type to plot. If multiple countries are selected, color in different colors.\n",
    "Bonus1:\n",
    "Deploy on mybinder.org. \n",
    "share the URL link\n",
    "Bonus2:\n",
    "Add a Continent widget and update Countries options based on selected Continents\n",
    "Add a table to display data for selected countries and months"
   ]
  },
  {
   "cell_type": "code",
   "execution_count": 10,
   "id": "de6e2ea8",
   "metadata": {},
   "outputs": [
    {
     "name": "stderr",
     "output_type": "stream",
     "text": [
      "WARNING:param.ParamFunction08903: The function supplied for Panel to display was declared with `watch=True`, which will cause the function to be called twice for any change in a dependent Parameter. `watch` should be False when Panel is responsible for displaying the result of the function call, while `watch=True` should be reserved for functions that work via side-effects, e.g. by modifying internal  state of a class or global state in an application's namespace.\n",
      "WARNING:param.ParamFunction08909: The function supplied for Panel to display was declared with `watch=True`, which will cause the function to be called twice for any change in a dependent Parameter. `watch` should be False when Panel is responsible for displaying the result of the function call, while `watch=True` should be reserved for functions that work via side-effects, e.g. by modifying internal  state of a class or global state in an application's namespace.\n",
      "WARNING:param.ParamFunction08915: The function supplied for Panel to display was declared with `watch=True`, which will cause the function to be called twice for any change in a dependent Parameter. `watch` should be False when Panel is responsible for displaying the result of the function call, while `watch=True` should be reserved for functions that work via side-effects, e.g. by modifying internal  state of a class or global state in an application's namespace.\n"
     ]
    },
    {
     "data": {},
     "metadata": {},
     "output_type": "display_data"
    },
    {
     "data": {
      "application/vnd.holoviews_exec.v0+json": "",
      "text/html": [
       "<div id='6998'>\n",
       "\n",
       "\n",
       "\n",
       "\n",
       "\n",
       "  <div class=\"bk-root\" id=\"24034a91-849f-42af-993b-d6e05943283a\" data-root-id=\"6998\"></div>\n",
       "</div>\n",
       "<script type=\"application/javascript\">(function(root) {\n",
       "  function embed_document(root) {\n",
       "    var docs_json = {\"fe262028-9017-4c15-81fc-e1f55620128e\":{\"defs\":[{\"extends\":null,\"module\":null,\"name\":\"ReactiveHTML1\",\"overrides\":[],\"properties\":[]},{\"extends\":null,\"module\":null,\"name\":\"FlexBox1\",\"overrides\":[],\"properties\":[{\"default\":\"flex-start\",\"kind\":null,\"name\":\"align_content\"},{\"default\":\"flex-start\",\"kind\":null,\"name\":\"align_items\"},{\"default\":\"row\",\"kind\":null,\"name\":\"flex_direction\"},{\"default\":\"wrap\",\"kind\":null,\"name\":\"flex_wrap\"},{\"default\":\"flex-start\",\"kind\":null,\"name\":\"justify_content\"}]},{\"extends\":null,\"module\":null,\"name\":\"TemplateActions1\",\"overrides\":[],\"properties\":[{\"default\":0,\"kind\":null,\"name\":\"open_modal\"},{\"default\":0,\"kind\":null,\"name\":\"close_modal\"}]},{\"extends\":null,\"module\":null,\"name\":\"MaterialTemplateActions1\",\"overrides\":[],\"properties\":[{\"default\":0,\"kind\":null,\"name\":\"open_modal\"},{\"default\":0,\"kind\":null,\"name\":\"close_modal\"}]}],\"roots\":{\"references\":[{\"attributes\":{\"active\":0,\"labels\":[\"cases\",\"deaths\"],\"margin\":[5,10,5,10]},\"id\":\"7005\",\"type\":\"RadioButtonGroup\"},{\"attributes\":{\"children\":[{\"id\":\"7000\"},{\"id\":\"7006\"}],\"margin\":[0,0,0,0],\"name\":\"Row08914\"},\"id\":\"6999\",\"type\":\"Row\"},{\"attributes\":{\"children\":[{\"id\":\"7009\"}],\"margin\":[0,0,0,0],\"name\":\"Row08919\"},\"id\":\"7008\",\"type\":\"Row\"},{\"attributes\":{\"margin\":[5,5,5,5],\"name\":\"Str08911\"},\"id\":\"7007\",\"type\":\"panel.models.markup.HTML\"},{\"attributes\":{\"children\":[{\"id\":\"7007\"}],\"margin\":[0,0,0,0],\"name\":\"Row08913\"},\"id\":\"7006\",\"type\":\"Row\"},{\"attributes\":{\"end\":12,\"margin\":[5,10,5,10],\"start\":1,\"title\":\"Months Range\",\"value\":[1,12]},\"id\":\"7004\",\"type\":\"RangeSlider\"},{\"attributes\":{\"children\":[{\"id\":\"7003\"}],\"margin\":[0,0,0,0],\"name\":\"Row08907\"},\"id\":\"7002\",\"type\":\"Row\"},{\"attributes\":{\"margin\":[5,10,5,10],\"options\":[\"Democratic_Republic_of_the_Congo\",\"South_Africa\",\"Sudan\",\"Liberia\",\"Mali\",\"Senegal\",\"Egypt\",\"Cameroon\",\"Nigeria\",\"Djibouti\",\"Western_Sahara\",\"Angola\",\"Sao_Tome_and_Principe\",\"Kenya\",\"Ghana\",\"Gabon\",\"Botswana\",\"Mauritius\",\"Eritrea\",\"Equatorial_Guinea\",\"Mozambique\",\"Central_African_Republic\",\"United_Republic_of_Tanzania\",\"Uganda\",\"Cape_Verde\",\"Eswatini\",\"Seychelles\",\"Libya\",\"Sierra_Leone\",\"Niger\",\"Algeria\",\"Cote_dIvoire\",\"Morocco\",\"Lesotho\",\"Malawi\",\"Tunisia\",\"Chad\",\"Burkina_Faso\",\"Rwanda\",\"Togo\",\"Burundi\",\"Mauritania\",\"South_Sudan\",\"Zambia\",\"Comoros\",\"Benin\",\"Namibia\",\"Guinea\",\"Zimbabwe\",\"Guinea_Bissau\",\"Gambia\",\"Congo\",\"Ethiopia\",\"Madagascar\",\"Somalia\"],\"title\":\"countries\"},\"id\":\"7003\",\"type\":\"MultiSelect\"},{\"attributes\":{\"children\":[{\"id\":\"6999\"},{\"id\":\"7008\"}],\"margin\":[0,0,0,0],\"name\":\"Column08920\"},\"id\":\"6998\",\"type\":\"Column\"},{\"attributes\":{\"children\":[{\"id\":\"7001\"},{\"id\":\"7002\"},{\"id\":\"7004\"},{\"id\":\"7005\"}],\"css_classes\":[\"panel-widget-box\"],\"margin\":[5,5,5,5],\"name\":\"WidgetBox08908\"},\"id\":\"7000\",\"type\":\"Column\"},{\"attributes\":{\"client_comm_id\":\"c60af7160fad490e891e7410711e3abe\",\"comm_id\":\"57c541316ecd45479533f83a349e0448\",\"plot_id\":\"6998\"},\"id\":\"7010\",\"type\":\"panel.models.comm_manager.CommManager\"},{\"attributes\":{\"margin\":[5,10,5,10],\"options\":[\"Africa\",\"Asia\",\"Europe\",\"Oceania\",\"America\",\"Other\"],\"title\":\"continents\",\"value\":\"Africa\"},\"id\":\"7001\",\"type\":\"Select\"},{\"attributes\":{\"margin\":[5,5,5,5],\"name\":\"Str08917\"},\"id\":\"7009\",\"type\":\"panel.models.markup.HTML\"}],\"root_ids\":[\"6998\",\"7010\"]},\"title\":\"Bokeh Application\",\"version\":\"2.4.2\"}};\n",
       "    var render_items = [{\"docid\":\"fe262028-9017-4c15-81fc-e1f55620128e\",\"root_ids\":[\"6998\"],\"roots\":{\"6998\":\"24034a91-849f-42af-993b-d6e05943283a\"}}];\n",
       "    root.Bokeh.embed.embed_items_notebook(docs_json, render_items);\n",
       "  }\n",
       "  if (root.Bokeh !== undefined && root.Bokeh.Panel !== undefined) {\n",
       "    embed_document(root);\n",
       "  } else {\n",
       "    var attempts = 0;\n",
       "    var timer = setInterval(function(root) {\n",
       "      if (root.Bokeh !== undefined && root.Bokeh.Panel !== undefined) {\n",
       "        clearInterval(timer);\n",
       "        embed_document(root);\n",
       "      } else if (document.readyState == \"complete\") {\n",
       "        attempts++;\n",
       "        if (attempts > 200) {\n",
       "          clearInterval(timer);\n",
       "          console.log(\"Bokeh: ERROR: Unable to run BokehJS code because BokehJS library is missing\");\n",
       "        }\n",
       "      }\n",
       "    }, 25, root)\n",
       "  }\n",
       "})(window);</script>"
      ],
      "text/plain": [
       "Column\n",
       "    [0] Row\n",
       "        [0] WidgetBox\n",
       "            [0] Select(name='continents', options=['Africa', 'Asia', ...], value='Africa')\n",
       "            [1] ParamFunction(function)\n",
       "            [2] RangeSlider(end=12, name='Months Range', start=1, step=1, value=(1, 12), value_end=12, value_start=1)\n",
       "            [3] RadioButtonGroup(name='Button Group', options=['cases', 'deaths'], value='cases')\n",
       "        [1] ParamFunction(function)\n",
       "    [1] ParamFunction(function)"
      ]
     },
     "execution_count": 10,
     "metadata": {
      "application/vnd.holoviews_exec.v0+json": {
       "id": "6998"
      }
     },
     "output_type": "execute_result"
    }
   ],
   "source": [
    "import numpy as np\n",
    "import pandas as pd\n",
    "import seaborn as sns\n",
    "import panel as pn\n",
    "import hvplot.pandas\n",
    "from datetime import datetime\n",
    "\n",
    "gene_pq = pd.read_csv(\"world_wide_COVID_data_daily_data.csv\").sort_values(by=\"geoId\",ascending=False)  # .set_index(\"geoId\")\n",
    "countries_list = {}\n",
    "for i in ['Africa', 'Asia', 'Europe', 'Oceania', 'America', 'Other']:\n",
    "    countries_list[i] = list(set(gene_pq[gene_pq[\"continentExp\"] == i][\"countriesAndTerritories\"].values))\n",
    "continents_list = ['Africa', 'Asia', 'Europe', 'Oceania', 'America', 'Other']\n",
    "gene_pq[\"dateRep\"] = gene_pq[\"dateRep\"].map(lambda x: \"\".join([x.split(\"/\")[2], x.split(\"/\")[1], x.split(\"/\")[0]]))\n",
    "gene_pq = gene_pq[gene_pq[\"year\"] == 2020]\n",
    "gene_pq = gene_pq.set_index(\"countriesAndTerritories\")\n",
    "pn.extension()\n",
    "\n",
    "x = pn.widgets.RangeSlider(name='Months Range', start=1, end=12)\n",
    "y = pn.widgets.RadioButtonGroup(name='Button Group', options=['cases', 'deaths'])\n",
    "continents = pn.widgets.Select(name=\"continents\", options=continents_list)\n",
    "countries = pn.widgets.MultiSelect(name=\"countries\", options=countries_list[continents.value])\n",
    "\n",
    "\n",
    "@pn.depends(continents, watch=True)\n",
    "def update(continents):\n",
    "    countries.options = countries_list[continents]\n",
    "    return countries\n",
    "\n",
    "\n",
    "@pn.depends(countries, x, y, watch=True)\n",
    "def pic(countries, x, y):\n",
    "    if countries == []:\n",
    "        return None\n",
    "    else:\n",
    "        data_ori = gene_pq[gene_pq[\"month\"] <= x[1]]\n",
    "        date = data_ori[data_ori[\"month\"] >= int(x[0])].loc[countries].sort_values(by=\"dateRep\",ascending=True)\n",
    "        date[\"dateRep\"] = date[\"dateRep\"].map(lambda x: datetime.strptime(x, \"%Y%m%d\").date())\n",
    "        plot = date.hvplot(x=\"dateRep\", y=y, by=\"countriesAndTerritories\")\n",
    "        return plot\n",
    "\n",
    "\n",
    "@pn.depends(countries, x, watch=True)\n",
    "def cssv(countries, x):\n",
    "    if countries == []:\n",
    "        return None\n",
    "    else:\n",
    "        data_ori = gene_pq[gene_pq[\"month\"] <= x[1]]\n",
    "        date = data_ori[data_ori[\"month\"] >= int(x[0])].loc[countries].sort_values(by=\"dateRep\",ascending=True)\n",
    "        date[\"dateRep\"] = date[\"dateRep\"].map(lambda x: datetime.strptime(x, \"%Y%m%d\").date())\n",
    "        return pn.pane.DataFrame(date, width=1200)\n",
    "\n",
    "pn.Column(pn.Row(pn.WidgetBox(continents, update, x, y),pic),cssv).servable()"
   ]
  },
  {
   "cell_type": "code",
   "execution_count": null,
   "id": "9cc73097",
   "metadata": {},
   "outputs": [],
   "source": []
  }
 ],
 "metadata": {
  "kernelspec": {
   "display_name": "Python 3 (ipykernel)",
   "language": "python",
   "name": "python3"
  },
  "language_info": {
   "codemirror_mode": {
    "name": "ipython",
    "version": 3
   },
   "file_extension": ".py",
   "mimetype": "text/x-python",
   "name": "python",
   "nbconvert_exporter": "python",
   "pygments_lexer": "ipython3",
   "version": "3.10.0"
  }
 },
 "nbformat": 4,
 "nbformat_minor": 5
}
