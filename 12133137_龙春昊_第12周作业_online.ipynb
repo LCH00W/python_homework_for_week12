{
 "cells": [
  {
   "cell_type": "markdown",
   "id": "8eea0a33",
   "metadata": {},
   "source": [
    "Make a Panel app to visualize the COVID19 data\n",
    "\n",
    "Basic:\n",
    "Allow users to choose countries. Months and data type to plot. If multiple countries are selected, color in different colors.\n",
    "Bonus1:\n",
    "Deploy on mybinder.org. \n",
    "share the URL link\n",
    "Bonus2:\n",
    "Add a Continent widget and update Countries options based on selected Continents\n",
    "Add a table to display data for selected countries and months"
   ]
  },
  {
   "cell_type": "code",
   "execution_count": 3,
   "id": "de6e2ea8",
   "metadata": {},
   "outputs": [
    {
     "name": "stderr",
     "output_type": "stream",
     "text": [
      "WARNING:param.ParamFunction03203: The function supplied for Panel to display was declared with `watch=True`, which will cause the function to be called twice for any change in a dependent Parameter. `watch` should be False when Panel is responsible for displaying the result of the function call, while `watch=True` should be reserved for functions that work via side-effects, e.g. by modifying internal  state of a class or global state in an application's namespace.\n",
      "WARNING:param.ParamFunction03209: The function supplied for Panel to display was declared with `watch=True`, which will cause the function to be called twice for any change in a dependent Parameter. `watch` should be False when Panel is responsible for displaying the result of the function call, while `watch=True` should be reserved for functions that work via side-effects, e.g. by modifying internal  state of a class or global state in an application's namespace.\n",
      "WARNING:param.ParamFunction03215: The function supplied for Panel to display was declared with `watch=True`, which will cause the function to be called twice for any change in a dependent Parameter. `watch` should be False when Panel is responsible for displaying the result of the function call, while `watch=True` should be reserved for functions that work via side-effects, e.g. by modifying internal  state of a class or global state in an application's namespace.\n"
     ]
    },
    {
     "data": {},
     "metadata": {},
     "output_type": "display_data"
    },
    {
     "data": {
      "application/vnd.holoviews_exec.v0+json": "",
      "text/html": [
       "<div id='2374'>\n",
       "\n",
       "\n",
       "\n",
       "\n",
       "\n",
       "  <div class=\"bk-root\" id=\"f35cb71f-a94d-4de4-87e3-d64d80d8974b\" data-root-id=\"2374\"></div>\n",
       "</div>\n",
       "<script type=\"application/javascript\">(function(root) {\n",
       "  function embed_document(root) {\n",
       "    var docs_json = {\"c629f889-98ba-4bf5-ae42-35bf2788fa74\":{\"defs\":[{\"extends\":null,\"module\":null,\"name\":\"ReactiveHTML1\",\"overrides\":[],\"properties\":[]},{\"extends\":null,\"module\":null,\"name\":\"FlexBox1\",\"overrides\":[],\"properties\":[{\"default\":\"flex-start\",\"kind\":null,\"name\":\"align_content\"},{\"default\":\"flex-start\",\"kind\":null,\"name\":\"align_items\"},{\"default\":\"row\",\"kind\":null,\"name\":\"flex_direction\"},{\"default\":\"wrap\",\"kind\":null,\"name\":\"flex_wrap\"},{\"default\":\"flex-start\",\"kind\":null,\"name\":\"justify_content\"}]},{\"extends\":null,\"module\":null,\"name\":\"TemplateActions1\",\"overrides\":[],\"properties\":[{\"default\":0,\"kind\":null,\"name\":\"open_modal\"},{\"default\":0,\"kind\":null,\"name\":\"close_modal\"}]},{\"extends\":null,\"module\":null,\"name\":\"MaterialTemplateActions1\",\"overrides\":[],\"properties\":[{\"default\":0,\"kind\":null,\"name\":\"open_modal\"},{\"default\":0,\"kind\":null,\"name\":\"close_modal\"}]}],\"roots\":{\"references\":[{\"attributes\":{\"children\":[{\"id\":\"2375\"},{\"id\":\"2384\"}],\"margin\":[0,0,0,0],\"name\":\"Column03220\"},\"id\":\"2374\",\"type\":\"Column\"},{\"attributes\":{\"children\":[{\"id\":\"2383\"}],\"margin\":[0,0,0,0],\"name\":\"Row03213\"},\"id\":\"2382\",\"type\":\"Row\"},{\"attributes\":{\"margin\":[5,5,5,5],\"name\":\"Str03211\"},\"id\":\"2383\",\"type\":\"panel.models.markup.HTML\"},{\"attributes\":{\"margin\":[5,10,5,10],\"options\":[\"Democratic_Republic_of_the_Congo\",\"South_Africa\",\"Sudan\",\"Liberia\",\"Mali\",\"Senegal\",\"Egypt\",\"Cameroon\",\"Nigeria\",\"Djibouti\",\"Western_Sahara\",\"Angola\",\"Sao_Tome_and_Principe\",\"Kenya\",\"Ghana\",\"Gabon\",\"Botswana\",\"Mauritius\",\"Eritrea\",\"Equatorial_Guinea\",\"Mozambique\",\"Central_African_Republic\",\"United_Republic_of_Tanzania\",\"Uganda\",\"Cape_Verde\",\"Eswatini\",\"Seychelles\",\"Libya\",\"Sierra_Leone\",\"Niger\",\"Algeria\",\"Cote_dIvoire\",\"Morocco\",\"Lesotho\",\"Malawi\",\"Tunisia\",\"Chad\",\"Burkina_Faso\",\"Rwanda\",\"Togo\",\"Burundi\",\"Mauritania\",\"South_Sudan\",\"Zambia\",\"Comoros\",\"Benin\",\"Namibia\",\"Guinea\",\"Zimbabwe\",\"Guinea_Bissau\",\"Gambia\",\"Congo\",\"Ethiopia\",\"Madagascar\",\"Somalia\"],\"title\":\"countries\"},\"id\":\"2379\",\"type\":\"MultiSelect\"},{\"attributes\":{\"margin\":[5,10,5,10],\"options\":[\"Africa\",\"Asia\",\"Europe\",\"Oceania\",\"America\",\"Other\"],\"title\":\"continents\",\"value\":\"Africa\"},\"id\":\"2377\",\"type\":\"Select\"},{\"attributes\":{\"margin\":[5,5,5,5],\"name\":\"Str03217\"},\"id\":\"2385\",\"type\":\"panel.models.markup.HTML\"},{\"attributes\":{\"children\":[{\"id\":\"2385\"}],\"margin\":[0,0,0,0],\"name\":\"Row03219\"},\"id\":\"2384\",\"type\":\"Row\"},{\"attributes\":{\"children\":[{\"id\":\"2379\"}],\"margin\":[0,0,0,0],\"name\":\"Row03207\"},\"id\":\"2378\",\"type\":\"Row\"},{\"attributes\":{\"children\":[{\"id\":\"2376\"},{\"id\":\"2382\"}],\"margin\":[0,0,0,0],\"name\":\"Row03214\"},\"id\":\"2375\",\"type\":\"Row\"},{\"attributes\":{\"end\":12,\"margin\":[5,10,5,10],\"start\":1,\"title\":\"Months Range\",\"value\":[1,12]},\"id\":\"2380\",\"type\":\"RangeSlider\"},{\"attributes\":{\"children\":[{\"id\":\"2377\"},{\"id\":\"2378\"},{\"id\":\"2380\"},{\"id\":\"2381\"}],\"css_classes\":[\"panel-widget-box\"],\"margin\":[5,5,5,5],\"name\":\"WidgetBox03208\"},\"id\":\"2376\",\"type\":\"Column\"},{\"attributes\":{\"client_comm_id\":\"980aa71591dd4e129ea6aba1ffd250e8\",\"comm_id\":\"7abd5f4877e14f999cdc55c7d2017f0e\",\"plot_id\":\"2374\"},\"id\":\"2386\",\"type\":\"panel.models.comm_manager.CommManager\"},{\"attributes\":{\"active\":0,\"labels\":[\"cases\",\"deaths\"],\"margin\":[5,10,5,10]},\"id\":\"2381\",\"type\":\"RadioButtonGroup\"}],\"root_ids\":[\"2374\",\"2386\"]},\"title\":\"Bokeh Application\",\"version\":\"2.4.2\"}};\n",
       "    var render_items = [{\"docid\":\"c629f889-98ba-4bf5-ae42-35bf2788fa74\",\"root_ids\":[\"2374\"],\"roots\":{\"2374\":\"f35cb71f-a94d-4de4-87e3-d64d80d8974b\"}}];\n",
       "    root.Bokeh.embed.embed_items_notebook(docs_json, render_items);\n",
       "  }\n",
       "  if (root.Bokeh !== undefined && root.Bokeh.Panel !== undefined) {\n",
       "    embed_document(root);\n",
       "  } else {\n",
       "    var attempts = 0;\n",
       "    var timer = setInterval(function(root) {\n",
       "      if (root.Bokeh !== undefined && root.Bokeh.Panel !== undefined) {\n",
       "        clearInterval(timer);\n",
       "        embed_document(root);\n",
       "      } else if (document.readyState == \"complete\") {\n",
       "        attempts++;\n",
       "        if (attempts > 200) {\n",
       "          clearInterval(timer);\n",
       "          console.log(\"Bokeh: ERROR: Unable to run BokehJS code because BokehJS library is missing\");\n",
       "        }\n",
       "      }\n",
       "    }, 25, root)\n",
       "  }\n",
       "})(window);</script>"
      ],
      "text/plain": [
       "Column\n",
       "    [0] Row\n",
       "        [0] WidgetBox\n",
       "            [0] Select(name='continents', options=['Africa', 'Asia', ...], value='Africa')\n",
       "            [1] ParamFunction(function)\n",
       "            [2] RangeSlider(end=12, name='Months Range', start=1, step=1, value=(1, 12), value_end=12, value_start=1)\n",
       "            [3] RadioButtonGroup(name='Button Group', options=['cases', 'deaths'], value='cases')\n",
       "        [1] ParamFunction(function)\n",
       "    [1] ParamFunction(function)"
      ]
     },
     "execution_count": 3,
     "metadata": {
      "application/vnd.holoviews_exec.v0+json": {
       "id": "2374"
      }
     },
     "output_type": "execute_result"
    }
   ],
   "source": [
    "import numpy as np\n",
    "import pandas as pd\n",
    "import seaborn as sns\n",
    "import panel as pn\n",
    "import hvplot\n",
    "from datetime import datetime\n",
    "\n",
    "gene_pq = pd.read_csv(\"C:/Users/lch/Desktop/python课/world_wide_COVID_data_daily_data.csv\").sort_values(by=\"geoId\",ascending=False)  # .set_index(\"geoId\")\n",
    "countries_list = {}\n",
    "for i in ['Africa', 'Asia', 'Europe', 'Oceania', 'America', 'Other']:\n",
    "    countries_list[i] = list(set(gene_pq[gene_pq[\"continentExp\"] == i][\"countriesAndTerritories\"].values))\n",
    "continents_list = ['Africa', 'Asia', 'Europe', 'Oceania', 'America', 'Other']\n",
    "gene_pq[\"dateRep\"] = gene_pq[\"dateRep\"].map(lambda x: \"\".join([x.split(\"/\")[2], x.split(\"/\")[1], x.split(\"/\")[0]]))\n",
    "gene_pq = gene_pq[gene_pq[\"year\"] == 2020]\n",
    "gene_pq = gene_pq.set_index(\"countriesAndTerritories\")\n",
    "pn.extension()\n",
    "\n",
    "x = pn.widgets.RangeSlider(name='Months Range', start=1, end=12)\n",
    "y = pn.widgets.RadioButtonGroup(name='Button Group', options=['cases', 'deaths'])\n",
    "continents = pn.widgets.Select(name=\"continents\", options=continents_list)\n",
    "countries = pn.widgets.MultiSelect(name=\"countries\", options=countries_list[continents.value])\n",
    "\n",
    "\n",
    "@pn.depends(continents, watch=True)\n",
    "def update(continents):\n",
    "    countries.options = countries_list[continents]\n",
    "    return countries\n",
    "\n",
    "\n",
    "@pn.depends(countries, x, y, watch=True)\n",
    "def pic(countries, x, y):\n",
    "    if countries == []:\n",
    "        return None\n",
    "    else:\n",
    "        data_ori = gene_pq[gene_pq[\"month\"] <= x[1]]\n",
    "        date = data_ori[data_ori[\"month\"] >= int(x[0])].loc[countries].sort_values(by=\"dateRep\",ascending=True)\n",
    "        date[\"dateRep\"] = date[\"dateRep\"].map(lambda x: datetime.strptime(x, \"%Y%m%d\").date())\n",
    "        plot = date.hvplot(x=\"dateRep\", y=y, by=\"countriesAndTerritories\")\n",
    "        return plot\n",
    "\n",
    "\n",
    "@pn.depends(countries, x, watch=True)\n",
    "def cssv(countries, x):\n",
    "    if countries == []:\n",
    "        return None\n",
    "    else:\n",
    "        data_ori = gene_pq[gene_pq[\"month\"] <= x[1]]\n",
    "        date = data_ori[data_ori[\"month\"] >= int(x[0])].loc[countries].sort_values(by=\"dateRep\",ascending=True)\n",
    "        date[\"dateRep\"] = date[\"dateRep\"].map(lambda x: datetime.strptime(x, \"%Y%m%d\").date())\n",
    "        return pn.pane.DataFrame(date, width=1200)\n",
    "\n",
    "pn.Column(pn.Row(pn.WidgetBox(continents, update, x, y),pic),cssv).servable()"
   ]
  },
  {
   "cell_type": "code",
   "execution_count": null,
   "id": "9cc73097",
   "metadata": {},
   "outputs": [],
   "source": []
  }
 ],
 "metadata": {
  "kernelspec": {
   "display_name": "Python 3 (ipykernel)",
   "language": "python",
   "name": "python3"
  },
  "language_info": {
   "codemirror_mode": {
    "name": "ipython",
    "version": 3
   },
   "file_extension": ".py",
   "mimetype": "text/x-python",
   "name": "python",
   "nbconvert_exporter": "python",
   "pygments_lexer": "ipython3",
   "version": "3.10.0"
  }
 },
 "nbformat": 4,
 "nbformat_minor": 5
}
