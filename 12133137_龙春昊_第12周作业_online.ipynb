{
 "cells": [
  {
   "cell_type": "markdown",
   "id": "8eea0a33",
   "metadata": {},
   "source": [
    "Make a Panel app to visualize the COVID19 data\n",
    "\n",
    "Basic:\n",
    "Allow users to choose countries. Months and data type to plot. If multiple countries are selected, color in different colors.\n",
    "Bonus1:\n",
    "Deploy on mybinder.org. \n",
    "share the URL link\n",
    "Bonus2:\n",
    "Add a Continent widget and update Countries options based on selected Continents\n",
    "Add a table to display data for selected countries and months"
   ]
  },
  {
   "cell_type": "code",
   "execution_count": 3,
   "id": "de6e2ea8",
   "metadata": {},
   "outputs": [
    {
     "name": "stderr",
     "output_type": "stream",
     "text": [
      "WARNING:param.ParamFunction01674: The function supplied for Panel to display was declared with `watch=True`, which will cause the function to be called twice for any change in a dependent Parameter. `watch` should be False when Panel is responsible for displaying the result of the function call, while `watch=True` should be reserved for functions that work via side-effects, e.g. by modifying internal  state of a class or global state in an application's namespace.\n",
      "WARNING:param.ParamFunction01683: The function supplied for Panel to display was declared with `watch=True`, which will cause the function to be called twice for any change in a dependent Parameter. `watch` should be False when Panel is responsible for displaying the result of the function call, while `watch=True` should be reserved for functions that work via side-effects, e.g. by modifying internal  state of a class or global state in an application's namespace.\n",
      "WARNING:param.ParamFunction01688: The function supplied for Panel to display was declared with `watch=True`, which will cause the function to be called twice for any change in a dependent Parameter. `watch` should be False when Panel is responsible for displaying the result of the function call, while `watch=True` should be reserved for functions that work via side-effects, e.g. by modifying internal  state of a class or global state in an application's namespace.\n"
     ]
    },
    {
     "name": "stdout",
     "output_type": "stream",
     "text": [
      "Launching server at http://localhost:53223\n"
     ]
    },
    {
     "data": {
      "text/plain": [
       "<bokeh.server.server.Server at 0x1c1d3a3a4d0>"
      ]
     },
     "execution_count": 3,
     "metadata": {},
     "output_type": "execute_result"
    }
   ],
   "source": [
    "import numpy as np\n",
    "import pandas as pd\n",
    "import seaborn as sns\n",
    "import panel as pn\n",
    "import hvplot.pandas\n",
    "from datetime import datetime\n",
    "\n",
    "gene_pq = pd.read_csv(\"world_wide_COVID_data_daily_data.csv\").sort_values(by=\"geoId\",ascending=False)  # .set_index(\"geoId\")\n",
    "countries_list = {}\n",
    "for i in ['Africa', 'Asia', 'Europe', 'Oceania', 'America', 'Other']:\n",
    "    countries_list[i] = list(set(gene_pq[gene_pq[\"continentExp\"] == i][\"countriesAndTerritories\"].values))\n",
    "continents_list = ['Africa', 'Asia', 'Europe', 'Oceania', 'America', 'Other']\n",
    "gene_pq[\"dateRep\"] = gene_pq[\"dateRep\"].map(lambda x: \"\".join([x.split(\"/\")[2], x.split(\"/\")[1], x.split(\"/\")[0]]))\n",
    "gene_pq = gene_pq[gene_pq[\"year\"] == 2020]\n",
    "gene_pq = gene_pq.set_index(\"countriesAndTerritories\")\n",
    "pn.extension()\n",
    "\n",
    "x = pn.widgets.RangeSlider(name='Months Range', start=1, end=12)\n",
    "y = pn.widgets.RadioButtonGroup(name='Button Group', options=['cases', 'deaths'])\n",
    "continents = pn.widgets.Select(name=\"continents\", options=continents_list)\n",
    "countries = pn.widgets.MultiSelect(name=\"countries\", options=countries_list[continents.value])\n",
    "\n",
    "\n",
    "@pn.depends(continents, watch=True)\n",
    "def update(continents):\n",
    "    countries.options = countries_list[continents]\n",
    "    return countries\n",
    "\n",
    "\n",
    "@pn.depends(countries, x, y, watch=True)\n",
    "def pic(countries, x, y):\n",
    "    if countries == []:\n",
    "        return None\n",
    "    else:\n",
    "        data_ori = gene_pq[gene_pq[\"month\"] <= x[1]]\n",
    "        date = data_ori[data_ori[\"month\"] >= int(x[0])].loc[countries].sort_values(by=\"dateRep\",ascending=True)\n",
    "        date[\"dateRep\"] = date[\"dateRep\"].map(lambda x: datetime.strptime(x, \"%Y%m%d\").date())\n",
    "        plot = date.hvplot(x=\"dateRep\", y=y, by=\"countriesAndTerritories\")\n",
    "        return plot\n",
    "\n",
    "\n",
    "@pn.depends(countries, x, watch=True)\n",
    "def cssv(countries, x):\n",
    "    if countries == []:\n",
    "        return None\n",
    "    else:\n",
    "        data_ori = gene_pq[gene_pq[\"month\"] <= x[1]]\n",
    "        date = data_ori[data_ori[\"month\"] >= int(x[0])].loc[countries].sort_values(by=\"dateRep\",ascending=True)\n",
    "        date[\"dateRep\"] = date[\"dateRep\"].map(lambda x: datetime.strptime(x, \"%Y%m%d\").date())\n",
    "        return date.hvplot.table(title = 'DATAtable' )\n",
    "\n",
    "pn.template.FastListTemplate(\n",
    "    site=\"LCH_homework\", title=\"covid19_data\",\n",
    "    sidebar=[\"Options\", pn.WidgetBox(continents, update, x, y)],\n",
    "    main=[\"plot and table\",pic,cssv]).servable()\n"
   ]
  },
  {
   "cell_type": "code",
   "execution_count": null,
   "id": "9cc73097",
   "metadata": {},
   "outputs": [],
   "source": []
  }
 ],
 "metadata": {
  "kernelspec": {
   "display_name": "Python 3 (ipykernel)",
   "language": "python",
   "name": "python3"
  },
  "language_info": {
   "codemirror_mode": {
    "name": "ipython",
    "version": 3
   },
   "file_extension": ".py",
   "mimetype": "text/x-python",
   "name": "python",
   "nbconvert_exporter": "python",
   "pygments_lexer": "ipython3",
   "version": "3.10.0"
  }
 },
 "nbformat": 4,
 "nbformat_minor": 5
}
